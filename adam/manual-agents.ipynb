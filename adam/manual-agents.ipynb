{
 "cells": [
  {
   "cell_type": "code",
   "execution_count": null,
   "metadata": {},
   "outputs": [],
   "source": [
    "\n",
    "from actions import *\n",
    "import re\n",
    "from time import sleep\n",
    "import os\n",
    "from dotenv import load_dotenv\n",
    "import requests\n"
   ]
  },
  {
   "cell_type": "code",
   "execution_count": 2,
   "metadata": {},
   "outputs": [],
   "source": [
    "if not load_dotenv():\n",
    "    raise Exception(\"env vars not loaded\")\n",
    "\n",
    "API_KEY = os.getenv(\"API_KEY\")"
   ]
  },
  {
   "cell_type": "code",
   "execution_count": null,
   "metadata": {},
   "outputs": [
    {
     "name": "stdout",
     "output_type": "stream",
     "text": [
      "400\n"
     ]
    },
    {
     "data": {
      "text/plain": [
       "'{\"code\":\"Client specified an invalid argument\",\"error\":\"Invalid Authorization header \\'Bearer\\'. Specify your API key in an Authorization header using Bearer auth (i.e. Authorization: Bearer YOUR_KEY). You can obtain an API key from https://console.x.ai\"}'"
      ]
     },
     "execution_count": 6,
     "metadata": {},
     "output_type": "execute_result"
    }
   ],
   "source": [
    "url = \"https://api.x.ai/v1/chat/completions\"\n",
    "\n",
    "headers = {\n",
    "    \"Authorization\": \"Bearer \",\n",
    "    \"Content-Type\": \"application/json\"\n",
    "}\n",
    "\n",
    "data = {\n",
    "    \"messages\": [\n",
    "        {\n",
    "            \"role\": \"system\",\n",
    "            \"content\": \"You are a test assistant.\"\n",
    "        },\n",
    "        {\n",
    "            \"role\": \"user\",\n",
    "            \"content\": \"Tell me a short, edgy joke\"\n",
    "        }\n",
    "    ],\n",
    "    \"model\": \"grok-beta\",\n",
    "    \"stream\": False,\n",
    "    \"temperature\": 1\n",
    "}\n",
    "\n",
    "response = requests.post(url, headers=headers, json=data)\n",
    "\n",
    "print(response.status_code)\n",
    "response.text"
   ]
  },
  {
   "cell_type": "code",
   "execution_count": 4,
   "metadata": {},
   "outputs": [],
   "source": [
    "def grok(messages: list[dict]) -> str:\n",
    "    global API_KEY\n",
    "    if not(isinstance(messages, list)):\n",
    "        raise BaseException('Use message list when calling grok()')\n",
    "    \n",
    "    url = \"https://api.x.ai/v1/chat/completions\"\n",
    "\n",
    "    headers = {\n",
    "        \"Authorization\": f\"Bearer {API_KEY}\",\n",
    "        \"Content-Type\": \"application/json\"\n",
    "    }\n",
    "\n",
    "    data = {\n",
    "        \"messages\": messages,\n",
    "        \"model\": \"grok-beta\",\n",
    "        \"stream\": False,\n",
    "        \"temperature\": 1\n",
    "    }\n",
    "\n",
    "    response = requests.post(url, headers=headers, json=data)\n",
    "    \n",
    "    return response.json()[\"choices\"][0][\"message\"][\"content\"]"
   ]
  },
  {
   "cell_type": "code",
   "execution_count": 8,
   "metadata": {},
   "outputs": [
    {
     "data": {
      "text/plain": [
       "'Hello! How can I assist you today?'"
      ]
     },
     "execution_count": 8,
     "metadata": {},
     "output_type": "execute_result"
    }
   ],
   "source": [
    "grok([{\"role\":\"system\", \"content\": \"hello!\"}])"
   ]
  },
  {
   "cell_type": "code",
   "execution_count": 4,
   "metadata": {},
   "outputs": [],
   "source": [
    "class Agent():\n",
    "    \n",
    "    def __init__(self) -> None:\n",
    "        self.messages = []\n",
    "        return\n",
    "    \n",
    "    def init_thinking_behaviour(self):\n",
    "        behaviour = \"\"\"\n",
    "            You are an expert survivalist. You are able to suggest step by step \n",
    "            how to orient yourself in nature, build primitive tools and survive \n",
    "            or escape. You are logical thinking.\n",
    "            \n",
    "            I'm asking you in a loop. Each time I ask, I want you to suggest\n",
    "            in plain english, what the logical next steps should be.\n",
    "            \n",
    "            You can only use decrete actions, here is the list:\n",
    "            collect wood, start fire, build shelter, hunt animal, fish, purify water,\n",
    "            gather plants, make weapon, set trap, create signal, navigate nature,\n",
    "            find water, make container, make rope, make insulation, make tools, \n",
    "            make stretcher, find high ground, scavenge materials, track animal, \n",
    "            climb_tree, spot_village_from_highpoint\n",
    "            \n",
    "            Decide which one to use and answer which one. Make it look like python function. Example:\n",
    "            - decision: colled wood, resposne: \"action: collect_wood()\"\n",
    "            - decision: make rope, resposne: \"action: make_rope()\"\n",
    "        \n",
    "        \"\"\".strip()\n",
    "        self.messages.append({\"role\": \"system\", \"content\": behaviour})\n",
    "    \n",
    "    def ask(self, prompt=''):\n",
    "        if prompt:\n",
    "            self.messages.append({\"role\": \"user\", \"content\": prompt})\n",
    "            answer = grok(self.messages)\n",
    "            self.messages.append({\"role\": \"user\", \"content\": answer})\n",
    "            \n",
    "        else:\n",
    "            last_message = self.messages[-1][\"content\"]\n",
    "            if \"<STOP>\" in last_message:\n",
    "                return \"<STOP>\"\n",
    "            elif \"action:\" in last_message:\n",
    "                func = re.findall(r'action:\\s*(\\w+)\\(\\)', last_message)[0]\n",
    "                answer = eval(func+\"()\")\n",
    "                self.messages.append({\"role\": \"user\", \"content\": answer})\n",
    "            else:\n",
    "                self.messages.append({\"role\": \"user\", \"content\": \"That is done. Now, on to next logical thing.\"})\n",
    "                answer = grok(self.messages)\n",
    "                self.messages.append({\"role\": \"user\", \"content\": answer})\n",
    "        \n",
    "        return \"<CONTINUE>\"\n",
    "                \n",
    "                "
   ]
  },
  {
   "cell_type": "code",
   "execution_count": 5,
   "metadata": {},
   "outputs": [],
   "source": [
    "smarty = Agent()\n",
    "smarty.init_thinking_behaviour()"
   ]
  },
  {
   "cell_type": "code",
   "execution_count": 6,
   "metadata": {},
   "outputs": [
    {
     "name": "stdout",
     "output_type": "stream",
     "text": [
      "{'role': 'user', 'content': 'Navigated using natural indicators.'}\n",
      "{'role': 'user', 'content': 'To establish a base camp which will be useful in your survival, next step is:\\n\\n```python\\naction: find_high_ground()\\n```'}\n",
      "{'role': 'user', 'content': 'Located high ground for visibility.'}\n",
      "{'role': 'user', 'content': \"To assess your surroundings and plan your next move, here's what to do:\\n\\n```python\\naction: spot_village_from_highpoint()\\n```\"}\n",
      "{'role': 'user', 'content': 'You found a village! <STOP>'}\n"
     ]
    }
   ],
   "source": [
    "iterations = 20\n",
    "\n",
    "smarty.ask(\"You are trapped in Norway forest. No rules. Stay alive and find village asap\")\n",
    "i = 0\n",
    "while i < iterations:\n",
    "    i += 1\n",
    "    status = smarty.ask()\n",
    "    if status == \"<STOP>\":\n",
    "        break\n",
    "    sleep(1)\n",
    "    print(smarty.messages[-1])\n",
    "    \n",
    "    "
   ]
  },
  {
   "cell_type": "code",
   "execution_count": 7,
   "metadata": {},
   "outputs": [],
   "source": [
    "with open(\"./out.txt\", \"w\") as f:\n",
    "    f.truncate()\n",
    "    f.seek(0)\n",
    "    for i in smarty.messages:\n",
    "        for k, v in i.items():\n",
    "            f.write(f\"{k}\\n\\t{v}\")\n",
    "            f.write(\"\\n\\n\")\n",
    "            "
   ]
  }
 ],
 "metadata": {
  "kernelspec": {
   "display_name": "code-iX4IGQ0u-py3.13",
   "language": "python",
   "name": "python3"
  },
  "language_info": {
   "codemirror_mode": {
    "name": "ipython",
    "version": 3
   },
   "file_extension": ".py",
   "mimetype": "text/x-python",
   "name": "python",
   "nbconvert_exporter": "python",
   "pygments_lexer": "ipython3",
   "version": "3.13.0"
  }
 },
 "nbformat": 4,
 "nbformat_minor": 2
}
